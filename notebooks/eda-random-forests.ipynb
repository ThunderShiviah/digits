{
 "cells": [
  {
   "cell_type": "code",
   "execution_count": 19,
   "metadata": {
    "collapsed": false
   },
   "outputs": [],
   "source": [
    "from pprint import pprint\n",
    "from time import time\n",
    "import logging\n",
    "\n",
    "import numpy as np\n",
    "import pandas as pd\n",
    "\n",
    "# ----------- Helper functions -------------- #\n",
    "from sklearn import cross_validation\n",
    "from sklearn.pipeline import make_pipeline\n",
    "\n",
    "# ------------ Pre-processing --------------- #\n",
    "from sklearn.decomposition import PCA\n",
    "\n",
    "# ------------ Model functions -------------- #\n",
    "from sklearn import tree\n",
    "from sklearn import ensemble"
   ]
  },
  {
   "cell_type": "markdown",
   "metadata": {},
   "source": [
    "# Data Ingestion\n"
   ]
  },
  {
   "cell_type": "code",
   "execution_count": 3,
   "metadata": {
    "collapsed": false
   },
   "outputs": [],
   "source": [
    "filename = '../data/train.csv'\n",
    "Y_COLUMN = 'label' # Name of column containing training labels.\n",
    "\n",
    "# Display progress logs on stdout\n",
    "logging.basicConfig(level=logging.INFO,\n",
    "                    format='%(asctime)s %(levelname)s %(message)s')\n",
    "\n",
    "def create_training_set(filename, Y_COLUMN, test_size=0.4):\n",
    "    \"\"\"Takes in the training data location and column name corresponding to training labels. Returns an training\n",
    "    test sets via a scikit cross validation train_test_split method.\"\"\"\n",
    "\n",
    "    sample = pd.read_csv(filename)\n",
    "\n",
    "    data = sample.drop(Y_COLUMN, 1)\n",
    "\n",
    "    target = sample.label.values.copy()\n",
    "\n",
    "    X_train, X_test, y_train, y_test = cross_validation.train_test_split(\n",
    "        data, target, test_size=test_size, random_state=0)\n",
    "\n",
    "    return X_train, X_test, y_train, y_test\n",
    "\n",
    "\n",
    "X_train, X_test, y_train, y_test = create_training_set(filename, Y_COLUMN)"
   ]
  },
  {
   "cell_type": "markdown",
   "metadata": {},
   "source": [
    "# Decision Tree Pipeline"
   ]
  },
  {
   "cell_type": "code",
   "execution_count": 21,
   "metadata": {
    "collapsed": false
   },
   "outputs": [
    {
     "name": "stdout",
     "output_type": "stream",
     "text": [
      "Accuracy: 0.76 (+/- 0.01)\n"
     ]
    }
   ],
   "source": [
    "pipeline = make_pipeline(\n",
    "    PCA(copy=True, n_components=None, whiten=False),\n",
    "    tree.DecisionTreeClassifier(),\n",
    ")\n",
    "pipeline.fit(X_train, y_train)\n",
    "pipeline.score(X_train, y_train)\n",
    "\n",
    "scores = cross_validation.cross_val_score(pipeline, X_train, y_train)\n",
    "\n",
    "print(\"Accuracy: %0.2f (+/- %0.2f)\" % (scores.mean(), scores.std() * 2))"
   ]
  },
  {
   "cell_type": "markdown",
   "metadata": {
    "collapsed": false
   },
   "source": [
    "# Visualize Decision Tree"
   ]
  },
  {
   "cell_type": "markdown",
   "metadata": {
    "collapsed": true
   },
   "source": [
    "# Random Forest Pipeline"
   ]
  },
  {
   "cell_type": "code",
   "execution_count": 20,
   "metadata": {
    "collapsed": false
   },
   "outputs": [
    {
     "name": "stdout",
     "output_type": "stream",
     "text": [
      "Accuracy: 0.93 (+/- 0.00)\n"
     ]
    }
   ],
   "source": [
    "pipeline = make_pipeline(\n",
    "    #PCA(copy=True, n_components=None, whiten=False),\n",
    "    ensemble.RandomForestClassifier(),\n",
    ")\n",
    "pipeline.fit(X_train, y_train)\n",
    "pipeline.score(X_train, y_train)\n",
    "\n",
    "scores = cross_validation.cross_val_score(pipeline, X_train, y_train)\n",
    "\n",
    "print(\"Accuracy: %0.2f (+/- %0.2f)\" % (scores.mean(), scores.std() * 2))"
   ]
  },
  {
   "cell_type": "code",
   "execution_count": null,
   "metadata": {
    "collapsed": true
   },
   "outputs": [],
   "source": []
  }
 ],
 "metadata": {
  "kernelspec": {
   "display_name": "Python 3",
   "language": "python",
   "name": "python3"
  },
  "language_info": {
   "codemirror_mode": {
    "name": "ipython",
    "version": 3
   },
   "file_extension": ".py",
   "mimetype": "text/x-python",
   "name": "python",
   "nbconvert_exporter": "python",
   "pygments_lexer": "ipython3",
   "version": "3.3.5"
  }
 },
 "nbformat": 4,
 "nbformat_minor": 0
}
